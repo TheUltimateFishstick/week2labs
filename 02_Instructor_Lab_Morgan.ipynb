{
 "cells": [
  {
   "cell_type": "markdown",
   "id": "136947c4-e057-4395-b873-a989c9008307",
   "metadata": {
    "editable": true,
    "slideshow": {
     "slide_type": ""
    },
    "tags": []
   },
   "source": [
    "UM MSBA - BGEN 632\n",
    "\n",
    "# Week 2 Instructor-led Lab\n",
    "\n",
    "In this assignment you will create basic code showcasing the concepts you learned about in the tutorial. \n",
    "\n",
    "**Create Code cells below this Markdown cell to complete the assignment. Write and run your code. To get full points, your submitted notebook must include saved output in addition to written code.** \n",
    "\n",
    "For this assignment, you are not required to create any Markdown cells but you are encouraged to do so to improve the aesthetics and organization of your lab submission. \n",
    "\n",
    "As stated in the syllabus, you <ins>must</ins> include information about your use of online resources to complete assignments, including chatbots like ChatGPT. You can include reference information within your notebooks and/or within separate files pushed to your repo on GitHub. Failure to disclose the use of online resources is a violation of course policy.\n",
    "\n",
    "## Assigning Values\n",
    "\n",
    "For this portion of the assignment, you will create variables in your notebook. You will assign a value to each variable. Please perform the following tasks and create each variable by assigning the following values:\n",
    "\n",
    "* my_int assign it a number between 1 and 20, inclusive.\n",
    "* long_a assign it the number 6,323,527,192.\n",
    "* float_pi assign it the number 3.14159\n",
    "* my_double assign it a fractional number with 13 decimals.\n",
    "* decimal_a assign it a fractional number with 20 decimals.\n",
    "* big_griz assign it the value G (uppercase).\n",
    "* my_hello assign it a greeting to the entire class.\n",
    "* my_goodbye assign it a farewell to your class.\n",
    "\n",
    "## Single Line Comments\n",
    "\n",
    "At the end of each variable, on the same line, place a single-line comment with a short description of each variable. For example, it would look like this:\n",
    "\n",
    "```\n",
    "new_double = 38.936921934     # A double with 9 decimal places\n",
    "```\n",
    "\n",
    "## Print Output\n",
    "\n",
    "Now that you have assigned values to your variables, let's print them. Output each variable individually.\n",
    "\n",
    "## Type Conversion\n",
    "\n",
    "The last task you have for this lab involves type conversion. Create new variables with the following types, names, and values. Use an explicit type conversion.\n",
    "\n",
    "* `int` named my_new_int with a number between 1 and 20, inclusive.\n",
    "* `float` named float_b with value 3.14159.\n",
    "  \n",
    "Output both variables. \n",
    "\n",
    "---"
   ]
  },
  {
   "cell_type": "markdown",
   "id": "96ae7a06-6b33-4f3f-a88d-bd2aa04dedcf",
   "metadata": {},
   "source": [
    "Assigning Values, Single Line Comments, and Printed Output:"
   ]
  },
  {
   "cell_type": "code",
   "execution_count": 5,
   "id": "d66e4214-94a0-47c8-8db0-6d044515b322",
   "metadata": {
    "editable": true,
    "slideshow": {
     "slide_type": ""
    },
    "tags": []
   },
   "outputs": [
    {
     "data": {
      "text/plain": [
       "17"
      ]
     },
     "execution_count": 5,
     "metadata": {},
     "output_type": "execute_result"
    }
   ],
   "source": [
    "my_int = 17     # An interger between 1 and 20 inclusive.\n",
    "\n",
    "my_int"
   ]
  },
  {
   "cell_type": "code",
   "execution_count": 7,
   "id": "f2736d3f-0964-4ce1-acca-47f220e4e320",
   "metadata": {},
   "outputs": [
    {
     "data": {
      "text/plain": [
       "6323527192"
      ]
     },
     "execution_count": 7,
     "metadata": {},
     "output_type": "execute_result"
    }
   ],
   "source": [
    "long_a = 6323527192     # A large interger. \n",
    "\n",
    "long_a"
   ]
  },
  {
   "cell_type": "code",
   "execution_count": 9,
   "id": "431bd914-4602-49c2-9bbf-07744fb1b447",
   "metadata": {},
   "outputs": [
    {
     "data": {
      "text/plain": [
       "3.14159"
      ]
     },
     "execution_count": 9,
     "metadata": {},
     "output_type": "execute_result"
    }
   ],
   "source": [
    "float_pi = 3.14159     # A float consisting of pi to the fifth decimal. \n",
    "\n",
    "float_pi"
   ]
  },
  {
   "cell_type": "code",
   "execution_count": 11,
   "id": "d57b28dc-0cce-456b-8814-9128d0d266e2",
   "metadata": {},
   "outputs": [
    {
     "data": {
      "text/plain": [
       "0.6820777418187"
      ]
     },
     "execution_count": 11,
     "metadata": {},
     "output_type": "execute_result"
    }
   ],
   "source": [
    "my_double = 0.6820777418187     # A fractional number with 13 decimals. \n",
    "\n",
    "my_double"
   ]
  },
  {
   "cell_type": "code",
   "execution_count": 39,
   "id": "a66badaf-3dab-4828-91ad-32bbcba0bbb2",
   "metadata": {},
   "outputs": [
    {
     "name": "stdout",
     "output_type": "stream",
     "text": [
      "0.8675309138867531\n"
     ]
    }
   ],
   "source": [
    "decimal_a = 0.86753091388675309138     # A fractional number with 20 decimals.\n",
    "\n",
    "print(decimal_a)"
   ]
  },
  {
   "cell_type": "code",
   "execution_count": 31,
   "id": "6dfa6dad-14a7-403d-aaa2-5e4db5d6bbf9",
   "metadata": {},
   "outputs": [
    {
     "name": "stdout",
     "output_type": "stream",
     "text": [
      "G\n"
     ]
    }
   ],
   "source": [
    "big_griz = \"G\"     # A string consisting of the uppercase letter G\n",
    "\n",
    "print(big_griz)"
   ]
  },
  {
   "cell_type": "code",
   "execution_count": 35,
   "id": "1274116f-42b6-4caf-a758-a1698e29943c",
   "metadata": {},
   "outputs": [
    {
     "name": "stdout",
     "output_type": "stream",
     "text": [
      "'Tsup class?!\n"
     ]
    }
   ],
   "source": [
    "my_hello = \"'Tsup class?!\"     # A string consisting of my greeting to the class.\n",
    "\n",
    "print(my_hello)"
   ]
  },
  {
   "cell_type": "code",
   "execution_count": 37,
   "id": "ec273bfb-9fc5-44e3-9367-1242bda05b3d",
   "metadata": {},
   "outputs": [
    {
     "name": "stdout",
     "output_type": "stream",
     "text": [
      "Peace out class!\n"
     ]
    }
   ],
   "source": [
    "my_goodbye = \"Peace out class!\"     # A string consisting of my farewell to the class. \n",
    "\n",
    "print(my_goodbye)"
   ]
  },
  {
   "cell_type": "markdown",
   "id": "bcaea87d-ef0e-4cd4-b4ad-9d7f4e1569ad",
   "metadata": {},
   "source": [
    "Type Conversion:"
   ]
  },
  {
   "cell_type": "code",
   "execution_count": 53,
   "id": "69b67bd6-edd1-4ba2-9b77-5e6939ce073f",
   "metadata": {},
   "outputs": [
    {
     "name": "stdout",
     "output_type": "stream",
     "text": [
      "4\n",
      "<class 'int'>\n"
     ]
    }
   ],
   "source": [
    "my_new_int = int(4)     # A new interger between 1 and 20 inclusive cast as an interger.\n",
    "\n",
    "print(my_new_int)\n",
    "print(type(my_new_int))"
   ]
  },
  {
   "cell_type": "code",
   "execution_count": 55,
   "id": "2a95c565-d2e4-4ffd-896f-40604514a24b",
   "metadata": {},
   "outputs": [
    {
     "name": "stdout",
     "output_type": "stream",
     "text": [
      "3.14159\n",
      "<class 'float'>\n"
     ]
    }
   ],
   "source": [
    "float_b = float(3.14159)     # Pi to the fifth decimal cast as a float. \n",
    "\n",
    "print(float_b)\n",
    "print(type(float_b))"
   ]
  }
 ],
 "metadata": {
  "kernelspec": {
   "display_name": "Python [conda env:base] *",
   "language": "python",
   "name": "conda-base-py"
  },
  "language_info": {
   "codemirror_mode": {
    "name": "ipython",
    "version": 3
   },
   "file_extension": ".py",
   "mimetype": "text/x-python",
   "name": "python",
   "nbconvert_exporter": "python",
   "pygments_lexer": "ipython3",
   "version": "3.12.7"
  }
 },
 "nbformat": 4,
 "nbformat_minor": 5
}
