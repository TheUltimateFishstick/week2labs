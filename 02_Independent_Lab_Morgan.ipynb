{
 "cells": [
  {
   "cell_type": "markdown",
   "id": "3a07d663-411a-4cbd-b053-139f414a661f",
   "metadata": {
    "editable": true,
    "slideshow": {
     "slide_type": ""
    },
    "tags": []
   },
   "source": [
    "Welcome, users, to my magical, mystical (Nah, It's just math!) Fahrenheit to Celsius converter!\n",
    "\n",
    "This is Troy Morgan's Week 2 Independent Lab for BGEN 632, Graduate Introduction to Python, submitted March 5, 2025. "
   ]
  },
  {
   "cell_type": "markdown",
   "id": "c57c19c2-91de-469f-8fb8-7beb6d18ba24",
   "metadata": {
    "editable": true,
    "slideshow": {
     "slide_type": ""
    },
    "tags": []
   },
   "source": [
    "### Step 1 - Create Variables"
   ]
  },
  {
   "cell_type": "code",
   "execution_count": 4,
   "id": "fcd45e4f-cb9a-48a5-af52-fd3481194344",
   "metadata": {
    "editable": true,
    "slideshow": {
     "slide_type": ""
    },
    "tags": []
   },
   "outputs": [],
   "source": [
    "celsius = 0.0\n",
    "fahrenheit = 0.0"
   ]
  },
  {
   "cell_type": "markdown",
   "id": "d6ede97e-ad3b-492a-9500-bdfa0896d89d",
   "metadata": {
    "editable": true,
    "slideshow": {
     "slide_type": ""
    },
    "tags": []
   },
   "source": [
    "### Step 2 - User Input"
   ]
  },
  {
   "cell_type": "code",
   "execution_count": 6,
   "id": "0b362fc3-1c59-4a6c-811d-d8b3dd626e71",
   "metadata": {
    "editable": true,
    "slideshow": {
     "slide_type": ""
    },
    "tags": []
   },
   "outputs": [
    {
     "name": "stdin",
     "output_type": "stream",
     "text": [
      "Please provide a value, in Celsius, to convert to Fahrenheit:\n",
      " 37\n"
     ]
    }
   ],
   "source": [
    "text = float(input(\"Please provide a value, in Celsius, to convert to Fahrenheit:\\n\"))"
   ]
  },
  {
   "cell_type": "markdown",
   "id": "54510fdc-6797-4096-9393-b0b10f87bd4c",
   "metadata": {
    "editable": true,
    "slideshow": {
     "slide_type": ""
    },
    "tags": []
   },
   "source": [
    "I chose float so that exact temperatures could be converted. Also, the variables created in Step 1 are floats. "
   ]
  },
  {
   "cell_type": "markdown",
   "id": "6e5832d2-220b-4a06-96fc-764b30c6e6e8",
   "metadata": {
    "editable": true,
    "slideshow": {
     "slide_type": ""
    },
    "tags": []
   },
   "source": [
    "### Step 3 - Conversion"
   ]
  },
  {
   "cell_type": "code",
   "execution_count": 9,
   "id": "287f53b8-c8e5-4708-9178-c7ba5e817e01",
   "metadata": {
    "editable": true,
    "slideshow": {
     "slide_type": ""
    },
    "tags": []
   },
   "outputs": [],
   "source": [
    "celcius = text\n",
    "fahrenheit = (9 / 5) * celcius + 32"
   ]
  },
  {
   "cell_type": "markdown",
   "id": "1cc590bf-dc78-4a40-9df6-e9bf9e7817dd",
   "metadata": {},
   "source": [
    "### Step 4 - Output"
   ]
  },
  {
   "cell_type": "code",
   "execution_count": 11,
   "id": "27f5539d-578b-433f-841b-216e14c3d1b1",
   "metadata": {
    "editable": true,
    "slideshow": {
     "slide_type": ""
    },
    "tags": []
   },
   "outputs": [
    {
     "name": "stdout",
     "output_type": "stream",
     "text": [
      "37.0 degrees Celsius is 98.60000000000001 degrees Fahrenheit.\n"
     ]
    }
   ],
   "source": [
    "print(f\"{celcius} degrees Celsius is {fahrenheit} degrees Fahrenheit.\") "
   ]
  },
  {
   "cell_type": "markdown",
   "id": "0abf98cc-ef8a-4efd-881f-95357c94809b",
   "metadata": {
    "editable": true,
    "slideshow": {
     "slide_type": ""
    },
    "tags": []
   },
   "source": [
    "## Type conversion"
   ]
  },
  {
   "cell_type": "code",
   "execution_count": 13,
   "id": "b78d095c-4946-42b7-ba45-9b62c1f2e33a",
   "metadata": {
    "editable": true,
    "slideshow": {
     "slide_type": ""
    },
    "tags": []
   },
   "outputs": [
    {
     "name": "stdout",
     "output_type": "stream",
     "text": [
      "98\n",
      "<class 'int'>\n"
     ]
    }
   ],
   "source": [
    "int_fahrenheit = int(fahrenheit)\n",
    "\n",
    "print(int_fahrenheit)\n",
    "print(type(int_fahrenheit))"
   ]
  }
 ],
 "metadata": {
  "kernelspec": {
   "display_name": "Python [conda env:base] *",
   "language": "python",
   "name": "conda-base-py"
  },
  "language_info": {
   "codemirror_mode": {
    "name": "ipython",
    "version": 3
   },
   "file_extension": ".py",
   "mimetype": "text/x-python",
   "name": "python",
   "nbconvert_exporter": "python",
   "pygments_lexer": "ipython3",
   "version": "3.12.7"
  }
 },
 "nbformat": 4,
 "nbformat_minor": 5
}
